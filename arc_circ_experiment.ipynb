{
 "cells": [
  {
   "cell_type": "code",
   "execution_count": null,
   "metadata": {},
   "outputs": [],
   "source": [
    "from qiskit_qec.circuits.repetition_code import RepetitionCodeCircuit\n",
    "from qiskit import IBMQ\n",
    "from qiskit_qec.circuits.repetition_code import ArcCircuit"
   ]
  },
  {
   "cell_type": "code",
   "execution_count": null,
   "metadata": {},
   "outputs": [],
   "source": [
    "link_1 =  [\n",
    "    (0,1,2),\n",
    "    (2,3,4),\n",
    "\n",
    "    (4,5,6),\n",
    "    (6,7,8),\n",
    "    \n",
    "    (4,9,10),\n",
    "    (10,11,12),\n",
    "]\n",
    "xz_basis = \"xz\"\n",
    "\n",
    "arccirc = ArcCircuit(link_1, 1, basis=xz_basis, barriers=True)\n",
    "#arccirc.circuit[\"xz\"].draw(output=\"mpl\", fold=100)"
   ]
  },
  {
   "cell_type": "code",
   "execution_count": null,
   "metadata": {},
   "outputs": [],
   "source": [
    "def get_montreal():\n",
    "    IBMQ.load_account()\n",
    "    provider = IBMQ.get_provider(hub='ibm-q-internal', group='deployed', project='default')\n",
    "    backend = provider.get_backend('ibmq_montreal')\n",
    "    print(f\"Montreal stats are : {backend.status}\")\n",
    "    return backend"
   ]
  },
  {
   "cell_type": "code",
   "execution_count": null,
   "metadata": {},
   "outputs": [],
   "source": [
    "montreal = get_montreal()"
   ]
  },
  {
   "cell_type": "code",
   "execution_count": null,
   "metadata": {},
   "outputs": [],
   "source": [
    "arc_compiled_circs = arccirc.transpile(montreal, echo_num=[2,0])\n",
    "\n",
    "for basis, circ in arc_compiled_circs.items():\n",
    "    filename = \"arc_circ_link_1_basis_{}_compiled_for_montreal_qasm\".format(basis)\n",
    "    circ.qasm(True, filename)"
   ]
  },
  {
   "cell_type": "code",
   "execution_count": null,
   "metadata": {},
   "outputs": [],
   "source": [
    "res = {}\n",
    "for basis, circ in arc_compiled_circs.items():\n",
    "    res[basis] = [circ, montreal.run(circ, shots=3)]"
   ]
  },
  {
   "cell_type": "code",
   "execution_count": null,
   "metadata": {},
   "outputs": [],
   "source": [
    "for basis, info_arr in res.items():\n",
    "    circ = info_arr[0]\n",
    "    job = info_arr[1]\n",
    "    results = job.result()\n",
    "    counts = results.get_counts(circ)\n",
    "    info_arr.append(results)\n",
    "    info_arr.append(counts)    "
   ]
  },
  {
   "cell_type": "code",
   "execution_count": null,
   "metadata": {},
   "outputs": [],
   "source": [
    "# decoding \n",
    "tanner_matrix = arccirc.generate_check_matrix()\n",
    "with open(\"arc_circ_tanner.txt\" as )\n",
    "from mqt.qecc import Code \n"
   ]
  },
  {
   "cell_type": "code",
   "execution_count": null,
   "metadata": {},
   "outputs": [],
   "source": [
    "def cheese():\n",
    "    return "
   ]
  }
 ],
 "metadata": {
  "kernelspec": {
   "display_name": "Python 3.10.4 ('qec_benchmarking_uf_decoder')",
   "language": "python",
   "name": "python3"
  },
  "language_info": {
   "name": "python",
   "version": "3.10.4"
  },
  "orig_nbformat": 4,
  "vscode": {
   "interpreter": {
    "hash": "b687c2377650cdb3843c547036ae32c024a1368bc08547e15f5b16967facce77"
   }
  }
 },
 "nbformat": 4,
 "nbformat_minor": 2
}
