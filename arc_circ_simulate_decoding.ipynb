{
 "cells": [
  {
   "cell_type": "code",
   "execution_count": 2,
   "metadata": {},
   "outputs": [],
   "source": [
    "import random\n",
    "\n",
    "import numpy as np\n",
    "from mqt.qecc import Code, UFHeuristic\n",
    "from qiskit import IBMQ, transpile\n",
    "from qiskit.quantum_info import PauliList\n",
    "\n",
    "from arc_circ_sim import ArcCircSim\n",
    "from utils.get_backend import get_backend"
   ]
  },
  {
   "cell_type": "code",
   "execution_count": 8,
   "metadata": {},
   "outputs": [
    {
     "name": "stdout",
     "output_type": "stream",
     "text": [
      "[['XIIII', 'IIIII', 'IIIII', 'IIIII', 'IIIII'], ['ZIIII', 'IIIII', 'IIIII', 'IIIII', 'IIIII'], ['IXIII', 'IIIII', 'IIIII', 'IIIII', 'IIIII'], ['IIXII', 'IIIII', 'IIIII', 'IIIII', 'IIIII'], ['IIZII', 'IIIII', 'IIIII', 'IIIII', 'IIIII'], ['ZIZII', 'IIIII', 'IIIII', 'IIIII', 'IIIII'], ['ZIIIZ', 'IIIII', 'IIIII', 'IIIII', 'IIIII'], ['IZIZI', 'IIIII', 'IIIII', 'IIIII', 'IIIII']]\n"
     ]
    }
   ],
   "source": [
    "# MAKE PAULI ERRORS \n",
    "\n",
    "n = 5\n",
    "start_zx = True\n",
    "qubit_ordering = (\n",
    "    [\"Z\", \"X\"] * ((n - 1) // 2) + [\"Z\"]\n",
    "    if start_zx\n",
    "    else [\"X\", \"Z\"] * ((n - 1) // 2) + [\"X\"]\n",
    ")\n",
    "istring = \"I\" * n\n",
    "errors = [] \n",
    "# An error looks like: [IXI, III, III, ...] with the error occuring in the 0th round and all following rounds have no errors (aka III); obviously more data qubits means more Is per round.\n",
    "for i in range(3): # n feels like a waste of time so used 3        \n",
    "\n",
    "    if qubit_ordering[i] != \"Z\":  # can't be detected by syndrome so don't add \n",
    "        errors.append([istring[:i] + \"X\" + istring[i + 1 :]] + [istring] * (n - 1))\n",
    "\n",
    "    # if qubit_ordering[i] != \"Y\":\n",
    "    #     errors.append([istring[:i] + \"Y\" + istring[i + 1 :]] + [istring] * (n - 1)) # always fails because the correction is either an X or Z right now\n",
    "\n",
    "    if qubit_ordering[i] != \"X\": # can't be detected by syndrome so don't add \n",
    "        errors.append([istring[:i] + \"Z\" + istring[i + 1 :]] + [istring] * (n - 1))\n",
    "\n",
    "if start_zx:\n",
    "    errors.append([\"ZIZ\" + \"I\" * (n - 3)] + [istring] * (n - 1))\n",
    "    errors.append([\"Z\" + \"I\" * (n - 2) + \"Z\"] + [istring] * (n - 1))\n",
    "    if len(qubit_ordering) > 3:\n",
    "        errors.append([\"IZIZ\" + \"I\" * (n - 4)] + [istring] * (n - 1))\n",
    "else:\n",
    "    errors.append([\"XIX\" + \"I\" * (n - 3)] + [istring] * (n - 1))\n",
    "    errors.append([\"X\" + \"I\" * (n - 2) + \"X\"] + [istring] * (n - 1))\n",
    "    if len(qubit_ordering) > 3:\n",
    "        errors.append([\"IXIX\" + \"I\" * (n - 4)] + [istring] * (n - 1))\n",
    "\n",
    "# basic_tests = [\n",
    "#     [\"XII\", \"III\", \"III\"],\n",
    "#     [\"ZII\", \"III\", \"III\"],\n",
    "#     [\"IXI\", \"III\", \"III\"],\n",
    "#     [\"IZI\", \"III\", \"III\"],\n",
    "#     [\"IIX\", \"III\", \"III\"],\n",
    "#     [\"IIZ\", \"III\", \"III\"],\n",
    "# ]\n",
    "\n",
    "basic_tests = errors\n",
    "print(errors)"
   ]
  },
  {
   "cell_type": "code",
   "execution_count": 9,
   "metadata": {},
   "outputs": [],
   "source": [
    "experiments = []\n",
    "backend = get_backend()\n",
    "for noise in basic_tests:\n",
    "    res = [\n",
    "        0\n",
    "    ] * 8  # res = [0.arc, 1.trans, 2.job, 3.counts, 4.uf_format_syndrome_meas, 5. results.estimate, 6.correction paulis, 7. final matrix]\n",
    "    res[0] = ArcCircSim(n, pauli_noise_list=noise, start_zx=start_zx)\n",
    "    res[1] = transpile(res[0].code_circ, backend=backend)\n",
    "    res[2] = backend.run(res[1])\n",
    "    res[3] = res[2].result().get_counts()\n",
    "    experiments.append(res)\n",
    "\n"
   ]
  },
  {
   "cell_type": "code",
   "execution_count": 10,
   "metadata": {},
   "outputs": [],
   "source": [
    "# make check matrix for Decoder \n",
    "\n",
    "checkm = ArcCircSim.generate_check_matrix(n)\n",
    "filepath = f\"./test_{n}.txt\"\n",
    "np.savetxt(filepath, checkm, fmt=\"%d\", newline=\"\\n\")"
   ]
  },
  {
   "cell_type": "code",
   "execution_count": 12,
   "metadata": {},
   "outputs": [
    {
     "name": "stdout",
     "output_type": "stream",
     "text": [
      "['Z', 'X', 'Z', 'X', 'Z']\n",
      "['XIIII', 'IIIII', 'IIIII', 'IIIII', 'IIIII']\n",
      "0000\n",
      "[]\n",
      "False\n",
      "['Z', 'X', 'Z', 'X', 'Z']\n",
      "['ZIIII', 'IIIII', 'IIIII', 'IIIII', 'IIIII']\n",
      "1000\n",
      "['ZIIII']\n",
      "True\n",
      "['Z', 'X', 'Z', 'X', 'Z']\n",
      "['IXIII', 'IIIII', 'IIIII', 'IIIII', 'IIIII']\n",
      "1100\n",
      "['ZIIII']\n",
      "False\n",
      "['Z', 'X', 'Z', 'X', 'Z']\n",
      "['IIXII', 'IIIII', 'IIIII', 'IIIII', 'IIIII']\n",
      "0000\n",
      "[]\n",
      "False\n",
      "['Z', 'X', 'Z', 'X', 'Z']\n",
      "['IIZII', 'IIIII', 'IIIII', 'IIIII', 'IIIII']\n",
      "0110\n",
      "['IIZII']\n",
      "True\n",
      "['Z', 'X', 'Z', 'X', 'Z']\n",
      "['ZIZII', 'IIIII', 'IIIII', 'IIIII', 'IIIII']\n",
      "1110\n",
      "['ZIIII', 'IIZII']\n",
      "True\n",
      "['Z', 'X', 'Z', 'X', 'Z']\n",
      "['ZIIIZ', 'IIIII', 'IIIII', 'IIIII', 'IIIII']\n",
      "1001\n",
      "['ZIIII', 'IIIIZ']\n",
      "True\n",
      "['Z', 'X', 'Z', 'X', 'Z']\n",
      "['IZIZI', 'IIIII', 'IIIII', 'IIIII', 'IIIII']\n",
      "0000\n",
      "[]\n",
      "False\n",
      "success ratio: 0.5\n"
     ]
    }
   ],
   "source": [
    "correct = 0\n",
    "for res in experiments:\n",
    "\n",
    "    output = list(res[3].keys())[0]\n",
    "    syndrome = output[len(output) - (n - 1) :]\n",
    "    uf_format = [True if k == \"1\" else False for k in syndrome]\n",
    "    res[4] = uf_format\n",
    "    code = Code(filepath)\n",
    "    decoder = UFHeuristic()\n",
    "    decoder.set_code(code)\n",
    "    decoder.decode(uf_format)\n",
    "    result = decoder.result\n",
    "    res[5] = result.estimate\n",
    "\n",
    "    # apply results\n",
    "    circ = res[0]\n",
    "    error_matrix = np.identity(2 ** (circ.no_link_bits), dtype=int)\n",
    "    for err in circ.pauli_noise_list:\n",
    "        pauli_err = PauliList(err).to_matrix(array=True)  # numpy array\n",
    "        error_matrix = np.matmul(pauli_err, error_matrix)\n",
    "\n",
    "    qubit_ordering = circ.qubit_ordering\n",
    "    correction = np.identity(2 ** (circ.no_link_bits), dtype=int)\n",
    "    res[6] = []\n",
    "    for quindex in range(len(result.estimate)):\n",
    "        istring = \"I\" * circ.no_link_bits\n",
    "        if result.estimate[quindex] == 1:\n",
    "            corr_pauli_str = (\n",
    "                istring[:quindex] + qubit_ordering[quindex] + istring[quindex + 1 :]\n",
    "            )\n",
    "            res[6].append(corr_pauli_str)\n",
    "            corr_pauli = PauliList(corr_pauli_str).to_matrix(array=True)\n",
    "            correction = np.matmul(correction, corr_pauli)\n",
    "\n",
    "    # apply errors/corrections together to see if we get I\n",
    "    final = np.matmul(correction, error_matrix)\n",
    "    res[7] = final\n",
    "\n",
    "    print(circ.qubit_ordering)\n",
    "    print(circ.pauli_noise_list)\n",
    "    print(syndrome)\n",
    "    print(res[6])\n",
    "    yes = np.all(np.equal(final, np.identity(2 ** (circ.no_link_bits)))) == True\n",
    "    if yes:\n",
    "        correct += 1\n",
    "    print(np.all(np.equal(final, np.identity(2 ** (circ.no_link_bits)))) == True)\n",
    "print(f\"success ratio: {correct / (len(basic_tests))}\")"
   ]
  }
 ],
 "metadata": {
  "kernelspec": {
   "display_name": "Python 3.10.4 ('transpile')",
   "language": "python",
   "name": "python3"
  },
  "language_info": {
   "codemirror_mode": {
    "name": "ipython",
    "version": 3
   },
   "file_extension": ".py",
   "mimetype": "text/x-python",
   "name": "python",
   "nbconvert_exporter": "python",
   "pygments_lexer": "ipython3",
   "version": "3.10.4"
  },
  "orig_nbformat": 4,
  "vscode": {
   "interpreter": {
    "hash": "4ee73a7608211d7b55d9666059b630b8e094b9b65460ab062a06c6396e22dda9"
   }
  }
 },
 "nbformat": 4,
 "nbformat_minor": 2
}
