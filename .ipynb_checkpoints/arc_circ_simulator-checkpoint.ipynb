{
 "cells": [
  {
   "cell_type": "code",
   "execution_count": 1,
   "metadata": {},
   "outputs": [],
   "source": [
    "from arc_circ_sim import ArcCircSim\n",
    "from utils.get_backend import get_backend\n",
    "from qiskit import IBMQ, transpile"
   ]
  },
  {
   "cell_type": "code",
   "execution_count": 2,
   "metadata": {},
   "outputs": [
    {
     "name": "stdout",
     "output_type": "stream",
     "text": [
      "['XII', 'III', 'III']\n",
      "{'101 00': 253, '001 00': 264, '100 00': 257, '000 00': 250}\n",
      "\n",
      "['ZII', 'III', 'III']\n",
      "{'101 10': 270, '100 10': 258, '001 10': 246, '000 10': 250}\n",
      "\n",
      "['IXI', 'III', 'III']\n",
      "{'110 11': 243, '011 11': 279, '111 11': 247, '010 11': 255}\n",
      "\n",
      "['IZI', 'III', 'III']\n",
      "{'001 00': 248, '101 00': 259, '000 00': 249, '100 00': 268}\n",
      "\n",
      "['IIX', 'III', 'III']\n",
      "{'001 00': 252, '101 00': 250, '100 00': 268, '000 00': 254}\n",
      "\n",
      "['IIZ', 'III', 'III']\n",
      "{'000 01': 243, '101 01': 258, '100 01': 260, '001 01': 263}\n",
      "\n"
     ]
    }
   ],
   "source": [
    "n = 3\n",
    "error_list = ArcCircSim.generate_all_unique_pauli_errors(n)\n",
    "backend = get_backend()\n",
    "\n",
    "basic_tests = [\n",
    "   [\"XII\", \"III\", \"III\"],\n",
    "   [\"ZII\", \"III\", \"III\"],\n",
    "   [\"IXI\", \"III\", \"III\"],\n",
    "   [\"IZI\", \"III\", \"III\"],\n",
    "   [\"IIX\", \"III\", \"III\"],\n",
    "   [\"IIZ\", \"III\", \"III\"], \n",
    "]\n",
    "\n",
    "\n",
    "experiments = []\n",
    "for noise in basic_tests:\n",
    "    res = [0] * 6 # [[arc, trans, job, counts, UFSyndrome, UFResults]]\n",
    "    res[0] = ArcCircSim(n, pauli_noise_list=noise)\n",
    "    res[1] = transpile(res[0].code_circ, backend=backend)\n",
    "    res[2] = backend.run(res[1])\n",
    "    res[3] = res[2].result().get_counts()\n",
    "    experiments.append(res) \n",
    "\n",
    "\n",
    "for res in experiments:\n",
    "    print(res[0].pauli_noise_list)\n",
    "    print(res[3])\n",
    "    print()\n"
   ]
  },
  {
   "cell_type": "code",
   "execution_count": 3,
   "metadata": {},
   "outputs": [],
   "source": [
    "checkm = ArcCircSim.generate_check_matrix(n)\n",
    "filepath = \"/Users/graceharperibm/correcting/QEC Benchmarking/arc_circ/arccirc_3.txt\""
   ]
  },
  {
   "cell_type": "code",
   "execution_count": 4,
   "metadata": {},
   "outputs": [],
   "source": [
    "from mqt.qecc import Code, UFHeuristic\n",
    "code = Code(filepath)\n",
    "\n"
   ]
  },
  {
   "cell_type": "code",
   "execution_count": null,
   "metadata": {},
   "outputs": [
    {
     "ename": "",
     "evalue": "",
     "output_type": "error",
     "traceback": [
      "\u001b[1;31mCanceled future for execute_request message before replies were done"
     ]
    },
    {
     "ename": "",
     "evalue": "",
     "output_type": "error",
     "traceback": [
      "\u001b[1;31mThe Kernel crashed while executing code in the the current cell or a previous cell. Please review the code in the cell(s) to identify a possible cause of the failure. Click <a href='https://aka.ms/vscodeJupyterKernelCrash'>here</a> for more info. View Jupyter <a href='command:jupyter.viewOutput'>log</a> for further details."
     ]
    }
   ],
   "source": [
    "for res in experiments:\n",
    "    \n",
    "    output = list(res[3].keys())[0]\n",
    "    uf_format = [True if k == \"1\" else False for k in output][:n]\n",
    "    res[4] = uf_format\n",
    "    print(uf_format)\n",
    "    decoder = UFHeuristic()\n",
    "    decoder.set_code(code)\n",
    "    decoder.decode(uf_format)\n",
    "    result = decoder.result\n",
    "    res[5] = result.estimate"
   ]
  },
  {
   "cell_type": "code",
   "execution_count": null,
   "metadata": {},
   "outputs": [],
   "source": [
    "for res in experiments:\n",
    "    print(res[0].pauli_noise_list)\n",
    "    print(list(res[3].keys())[0])\n",
    "    print(res[5])\n",
    "    print()\n",
    "    "
   ]
  },
  {
   "cell_type": "code",
   "execution_count": null,
   "metadata": {},
   "outputs": [],
   "source": []
  }
 ],
 "metadata": {
  "kernelspec": {
   "display_name": "Python 3.10.4 ('transpile')",
   "language": "python",
   "name": "python3"
  },
  "language_info": {
   "codemirror_mode": {
    "name": "ipython",
    "version": 3
   },
   "file_extension": ".py",
   "mimetype": "text/x-python",
   "name": "python",
   "nbconvert_exporter": "python",
   "pygments_lexer": "ipython3",
   "version": "3.10.4"
  },
  "orig_nbformat": 4,
  "vscode": {
   "interpreter": {
    "hash": "4ee73a7608211d7b55d9666059b630b8e094b9b65460ab062a06c6396e22dda9"
   }
  }
 },
 "nbformat": 4,
 "nbformat_minor": 2
}
