{
 "cells": [
  {
   "cell_type": "code",
   "execution_count": 27,
   "metadata": {},
   "outputs": [],
   "source": [
    "from arc_circ_sim import ArcCircSim\n",
    "from utils.get_backend import get_backend\n",
    "\n",
    "from qiskit import IBMQ, transpile\n",
    "\n",
    "\n"
   ]
  },
  {
   "cell_type": "code",
   "execution_count": 28,
   "metadata": {},
   "outputs": [
    {
     "name": "stdout",
     "output_type": "stream",
     "text": [
      "['XII', 'III', 'III']\n",
      "{'00': 1024}\n",
      "\n",
      "['ZII', 'III', 'III']\n",
      "{'10': 1024}\n",
      "\n",
      "['IXI', 'III', 'III']\n",
      "{'11': 1024}\n",
      "\n",
      "['IZI', 'III', 'III']\n",
      "{'00': 1024}\n",
      "\n",
      "['IIX', 'III', 'III']\n",
      "{'00': 1024}\n",
      "\n",
      "['IIZ', 'III', 'III']\n",
      "{'01': 1024}\n",
      "\n"
     ]
    }
   ],
   "source": [
    "n = 3\n",
    "error_list = ArcCircSim.generate_all_unique_pauli_errors(n)\n",
    "backend = get_backend()\n",
    "\n",
    "basic_tests = [\n",
    "   [\"XII\", \"III\", \"III\"],\n",
    "   [\"ZII\", \"III\", \"III\"],\n",
    "   [\"IXI\", \"III\", \"III\"],\n",
    "   [\"IZI\", \"III\", \"III\"],\n",
    "   [\"IIX\", \"III\", \"III\"],\n",
    "   [\"IIZ\", \"III\", \"III\"], \n",
    "]\n",
    "\n",
    "\n",
    "experiments = []\n",
    "for noise in basic_tests:\n",
    "    res = [0] * 6 # [[arc, trans, job, counts, UFSyndrome, UFResults]]\n",
    "    res[0] = ArcCircSim(n, pauli_noise_list=noise)\n",
    "    res[1] = transpile(res[0].code_circ, backend=backend)\n",
    "    res[2] = backend.run(res[1])\n",
    "    res[3] = res[2].result().get_counts()\n",
    "    experiments.append(res) \n",
    "\n",
    "\n",
    "for res in experiments:\n",
    "    print(res[0].pauli_noise_list)\n",
    "    print(res[3])\n",
    "    print()\n"
   ]
  },
  {
   "cell_type": "code",
   "execution_count": 29,
   "metadata": {},
   "outputs": [],
   "source": [
    "checkm = ArcCircSim.generate_check_matrix(n)\n",
    "filepath = ArcCircSim.save_external_check_matrix(\"arccirc_3\", checkm)"
   ]
  },
  {
   "cell_type": "code",
   "execution_count": 30,
   "metadata": {},
   "outputs": [],
   "source": [
    "from mqt.qecc import Code, UFHeuristic\n",
    "code = Code(filepath)\n",
    "decoder = UFHeuristic()\n",
    "decoder.set_code(code)\n"
   ]
  },
  {
   "cell_type": "code",
   "execution_count": 31,
   "metadata": {},
   "outputs": [],
   "source": [
    "for res in experiments:\n",
    "    output = list(res[3].keys())[0]\n",
    "    uf_format = [True if k == \"1\" else False for k in output]\n",
    "    res[4] = uf_format\n",
    "    decoder.decode(uf_format)\n",
    "    result = decoder.result\n",
    "    res[5] = result\n",
    "\n"
   ]
  },
  {
   "cell_type": "code",
   "execution_count": 33,
   "metadata": {},
   "outputs": [
    {
     "name": "stdout",
     "output_type": "stream",
     "text": [
      "\n",
      "['XII', 'III', 'III']\n",
      "{'00': 1024}\n",
      "[False, False]\n",
      "{\n",
      "  \"decodingTime(ms)\": 0,\n",
      "  \"estimate\": \"[0,0,0]\"\n",
      "}\n",
      "\n",
      "['ZII', 'III', 'III']\n",
      "{'10': 1024}\n",
      "[True, False]\n",
      "{\n",
      "  \"decodingTime(ms)\": 0,\n",
      "  \"estimate\": \"[0,0,0]\"\n",
      "}\n",
      "\n",
      "['IXI', 'III', 'III']\n",
      "{'11': 1024}\n",
      "[True, True]\n",
      "{\n",
      "  \"decodingTime(ms)\": 0,\n",
      "  \"estimate\": \"[0,0,0]\"\n",
      "}\n",
      "\n",
      "['IZI', 'III', 'III']\n",
      "{'00': 1024}\n",
      "[False, False]\n",
      "{\n",
      "  \"decodingTime(ms)\": 0,\n",
      "  \"estimate\": \"[0,0,0]\"\n",
      "}\n",
      "\n",
      "['IIX', 'III', 'III']\n",
      "{'00': 1024}\n",
      "[False, False]\n",
      "{\n",
      "  \"decodingTime(ms)\": 0,\n",
      "  \"estimate\": \"[0,0,0]\"\n",
      "}\n",
      "\n",
      "['IIZ', 'III', 'III']\n",
      "{'01': 1024}\n",
      "[False, True]\n",
      "{\n",
      "  \"decodingTime(ms)\": 0,\n",
      "  \"estimate\": \"[0,0,0]\"\n",
      "}\n"
     ]
    }
   ],
   "source": [
    "for res in experiments:\n",
    "    print()\n",
    "    print(res[0].pauli_noise_list)\n",
    "    print(res[3])\n",
    "    print(res[4])\n",
    "    print(res[5])\n",
    "    "
   ]
  },
  {
   "cell_type": "code",
   "execution_count": null,
   "metadata": {},
   "outputs": [],
   "source": []
  }
 ],
 "metadata": {
  "kernelspec": {
   "display_name": "Python 3.10.4 ('transpile')",
   "language": "python",
   "name": "python3"
  },
  "language_info": {
   "codemirror_mode": {
    "name": "ipython",
    "version": 3
   },
   "file_extension": ".py",
   "mimetype": "text/x-python",
   "name": "python",
   "nbconvert_exporter": "python",
   "pygments_lexer": "ipython3",
   "version": "3.10.4"
  },
  "orig_nbformat": 4,
  "vscode": {
   "interpreter": {
    "hash": "4ee73a7608211d7b55d9666059b630b8e094b9b65460ab062a06c6396e22dda9"
   }
  }
 },
 "nbformat": 4,
 "nbformat_minor": 2
}
