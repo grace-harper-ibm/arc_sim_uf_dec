{
 "cells": [
  {
   "cell_type": "code",
   "execution_count": 1,
   "metadata": {},
   "outputs": [],
   "source": [
    "from arc_circ_sim import ArcCircSim\n",
    "from utils.get_backend import get_backend\n",
    "\n",
    "from qiskit import IBMQ, transpile\n",
    "\n",
    "\n"
   ]
  },
  {
   "cell_type": "code",
   "execution_count": 4,
   "metadata": {},
   "outputs": [],
   "source": [
    "n = 3\n",
    "error_list = ArcCircSim.generate_all_unique_pauli_errors(n)\n",
    "\n",
    "basic_tests = [\n",
    "   [\"XII\", \"III\", \"III\"],\n",
    "   [\"ZII\", \"III\", \"III\"],\n",
    "   [\"IXI\", \"III\", \"III\"],\n",
    "   [\"IZI\", \"III\", \"III\"],\n",
    "   [\"IIX\", \"III\", \"III\"],\n",
    "   [\"IIZ\", \"III\", \"III\"], \n",
    "]\n",
    "\n",
    "\n",
    "\n",
    "\n"
   ]
  },
  {
   "cell_type": "code",
   "execution_count": 3,
   "metadata": {},
   "outputs": [
    {
     "data": {
      "text/plain": [
       "64"
      ]
     },
     "execution_count": 3,
     "metadata": {},
     "output_type": "execute_result"
    }
   ],
   "source": []
  },
  {
   "cell_type": "code",
   "execution_count": null,
   "metadata": {},
   "outputs": [],
   "source": [
    "circ = ArcCircSim(3, pauli_noise_list=[\"ZIX\", None, None], start_zx=True)\n",
    "circ.code_circ.draw(output=\"mpl\")"
   ]
  },
  {
   "cell_type": "code",
   "execution_count": null,
   "metadata": {},
   "outputs": [],
   "source": [
    "backend = get_backend()\n",
    "comci = transpile(circ.code_circ, backend=backend)\n",
    "\n",
    "comci.draw(output=\"mpl\", fold=100)\n",
    "job = backend.run(comci, shots=100)\n",
    "job.result().get_counts()\n"
   ]
  },
  {
   "cell_type": "code",
   "execution_count": null,
   "metadata": {},
   "outputs": [],
   "source": []
  }
 ],
 "metadata": {
  "kernelspec": {
   "display_name": "Python 3.10.4 ('transpile')",
   "language": "python",
   "name": "python3"
  },
  "language_info": {
   "codemirror_mode": {
    "name": "ipython",
    "version": 3
   },
   "file_extension": ".py",
   "mimetype": "text/x-python",
   "name": "python",
   "nbconvert_exporter": "python",
   "pygments_lexer": "ipython3",
   "version": "3.10.4"
  },
  "orig_nbformat": 4,
  "vscode": {
   "interpreter": {
    "hash": "4ee73a7608211d7b55d9666059b630b8e094b9b65460ab062a06c6396e22dda9"
   }
  }
 },
 "nbformat": 4,
 "nbformat_minor": 2
}
